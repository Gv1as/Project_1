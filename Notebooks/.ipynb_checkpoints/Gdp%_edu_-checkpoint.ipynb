{
 "cells": [
  {
   "cell_type": "code",
   "execution_count": 1,
   "id": "907b1f2f-7f47-49ea-93a1-6cccf5921dcf",
   "metadata": {},
   "outputs": [],
   "source": [
    "import pandas as pd\n",
    "import numpy as np\n",
    "import statsmodels.api as sm\n",
    "import seaborn as sns\n",
    "import matplotlib.pyplot as plt\n",
    "from scipy import stats\n",
    "import functions as func"
   ]
  },
  {
   "cell_type": "code",
   "execution_count": 2,
   "id": "c965b6dc-e380-4acc-982c-279ab1e634d6",
   "metadata": {},
   "outputs": [],
   "source": [
    "# read in csv file and creating an original df which we wont change. dropping certain unnecessary columns and renaming the necessary columns.\n",
    "\n",
    "csv_file_path = r'..\\Data\\GDP_growth\\real-gdp-growth.csv'\n",
    "df_gdp_rate_original = pd.read_csv(csv_file_path)\n",
    "df_gdp_rate = df_gdp_rate_original.copy()\n",
    "df_gdp_rate = df_gdp_rate.drop(columns=['Gross domestic product, constant prices - Percent change - Forecasts'])\n",
    "df_gdp_rate.rename(columns={'Entity': 'country', 'Gross domestic product, constant prices - Percent change - Observations' : 'gdp_change_%_observation', 'Year' : 'year'}, inplace=True)"
   ]
  },
  {
   "cell_type": "code",
   "execution_count": 3,
   "id": "871472c0-2474-4b32-95b6-62b74d95782d",
   "metadata": {},
   "outputs": [],
   "source": [
    "# Because the education dataset only has data per 5 years we change the Gdp set to 5 years intervals. We adjust the change in rate to sum up all increases so we have te correct data.\n",
    "\n",
    "df_gdp_rate['year'] = df_gdp_rate['year'] // 5 * 5\n",
    "df_gdp_rate = df_gdp_rate.groupby(['country', 'year']).agg({'gdp_change_%_observation': 'sum'}).reset_index()"
   ]
  },
  {
   "cell_type": "code",
   "execution_count": 4,
   "id": "556ad368-6d60-4e56-ab3e-3b6082fb77b0",
   "metadata": {},
   "outputs": [
    {
     "ename": "KeyError",
     "evalue": "\"['gdp', 'gdp_%_change', 'gdp_per_capita', 'gdp_%_change_capita'] not in index\"",
     "output_type": "error",
     "traceback": [
      "\u001b[1;31m---------------------------------------------------------------------------\u001b[0m",
      "\u001b[1;31mKeyError\u001b[0m                                  Traceback (most recent call last)",
      "Cell \u001b[1;32mIn[4], line 9\u001b[0m\n\u001b[0;32m      5\u001b[0m df_edu \u001b[38;5;241m=\u001b[39m df_edu_original\u001b[38;5;241m.\u001b[39mcopy()\n\u001b[0;32m      6\u001b[0m df_edu \u001b[38;5;241m=\u001b[39m df_edu\u001b[38;5;241m.\u001b[39mdrop(columns\u001b[38;5;241m=\u001b[39m[\u001b[38;5;124m'\u001b[39m\u001b[38;5;124mBLcode\u001b[39m\u001b[38;5;124m'\u001b[39m, \u001b[38;5;124m'\u001b[39m\u001b[38;5;124mWBcode\u001b[39m\u001b[38;5;124m'\u001b[39m , \u001b[38;5;124m'\u001b[39m\u001b[38;5;124mregion_code\u001b[39m\u001b[38;5;124m'\u001b[39m, \u001b[38;5;124m'\u001b[39m\u001b[38;5;124msex\u001b[39m\u001b[38;5;124m'\u001b[39m] , errors\u001b[38;5;241m=\u001b[39m\u001b[38;5;124m'\u001b[39m\u001b[38;5;124mignore\u001b[39m\u001b[38;5;124m'\u001b[39m)\n\u001b[1;32m----> 9\u001b[0m df_edu \u001b[38;5;241m=\u001b[39m \u001b[43mfunc\u001b[49m\u001b[38;5;241;43m.\u001b[39;49m\u001b[43medu_perc\u001b[49m\u001b[43m(\u001b[49m\u001b[43mdf_edu\u001b[49m\u001b[43m)\u001b[49m\n\u001b[0;32m     10\u001b[0m \u001b[38;5;66;03m# df_edu['yr_sch_%'] = df_edu.groupby('country')['yr_sch'].pct_change() * 100\u001b[39;00m\n\u001b[0;32m     11\u001b[0m \u001b[38;5;66;03m# df_edu['yr_sch_pri_%'] = df_edu.groupby('country')['yr_sch_pri'].pct_change() * 100\u001b[39;00m\n\u001b[0;32m     12\u001b[0m \u001b[38;5;66;03m# df_edu['yr_sch_sec_%'] = df_edu.groupby('country')['yr_sch_sec'].pct_change() * 100\u001b[39;00m\n\u001b[1;32m   (...)\u001b[0m\n\u001b[0;32m     17\u001b[0m \u001b[38;5;66;03m# df_edu['lhc_%'] = df_edu.groupby('country')['lhc'].pct_change() * 100\u001b[39;00m\n\u001b[0;32m     18\u001b[0m \u001b[38;5;66;03m# df_edu['pop_%'] = df_edu.groupby('country')['pop'].pct_change() * 100\u001b[39;00m\n\u001b[0;32m     20\u001b[0m df_edu \u001b[38;5;241m=\u001b[39m df_edu[df_edu[\u001b[38;5;124m'\u001b[39m\u001b[38;5;124myear\u001b[39m\u001b[38;5;124m'\u001b[39m] \u001b[38;5;241m>\u001b[39m\u001b[38;5;241m=\u001b[39m \u001b[38;5;241m1980\u001b[39m]\n",
      "File \u001b[1;32m~\\onedrive\\documenten\\ironhack\\week3\\project\\Notebooks\\functions.py:19\u001b[0m, in \u001b[0;36medu_perc\u001b[1;34m(df)\u001b[0m\n\u001b[0;32m     12\u001b[0m df[\u001b[38;5;124m'\u001b[39m\u001b[38;5;124mpop_\u001b[39m\u001b[38;5;124m%\u001b[39m\u001b[38;5;124m'\u001b[39m] \u001b[38;5;241m=\u001b[39m df\u001b[38;5;241m.\u001b[39mgroupby(\u001b[38;5;124m'\u001b[39m\u001b[38;5;124mcountry\u001b[39m\u001b[38;5;124m'\u001b[39m)[\u001b[38;5;124m'\u001b[39m\u001b[38;5;124mpop\u001b[39m\u001b[38;5;124m'\u001b[39m]\u001b[38;5;241m.\u001b[39mpct_change() \u001b[38;5;241m*\u001b[39m \u001b[38;5;241m100\u001b[39m\n\u001b[0;32m     14\u001b[0m desired_columns \u001b[38;5;241m=\u001b[39m [\u001b[38;5;124m'\u001b[39m\u001b[38;5;124myear\u001b[39m\u001b[38;5;124m'\u001b[39m, \u001b[38;5;124m'\u001b[39m\u001b[38;5;124mcountry\u001b[39m\u001b[38;5;124m'\u001b[39m, \u001b[38;5;124m'\u001b[39m\u001b[38;5;124mgdp\u001b[39m\u001b[38;5;124m'\u001b[39m, \u001b[38;5;124m'\u001b[39m\u001b[38;5;124mgdp_\u001b[39m\u001b[38;5;124m%\u001b[39m\u001b[38;5;124m_change\u001b[39m\u001b[38;5;124m'\u001b[39m, \u001b[38;5;124m'\u001b[39m\u001b[38;5;124mgdp_per_capita\u001b[39m\u001b[38;5;124m'\u001b[39m, \u001b[38;5;124m'\u001b[39m\u001b[38;5;124mgdp_\u001b[39m\u001b[38;5;124m%\u001b[39m\u001b[38;5;124m_change_capita\u001b[39m\u001b[38;5;124m'\u001b[39m, \n\u001b[0;32m     15\u001b[0m                    \u001b[38;5;124m'\u001b[39m\u001b[38;5;124magefrom\u001b[39m\u001b[38;5;124m'\u001b[39m, \u001b[38;5;124m'\u001b[39m\u001b[38;5;124mageto\u001b[39m\u001b[38;5;124m'\u001b[39m, \u001b[38;5;124m'\u001b[39m\u001b[38;5;124mlu\u001b[39m\u001b[38;5;124m'\u001b[39m, \u001b[38;5;124m'\u001b[39m\u001b[38;5;124mlp\u001b[39m\u001b[38;5;124m'\u001b[39m, \u001b[38;5;124m'\u001b[39m\u001b[38;5;124mlp_\u001b[39m\u001b[38;5;124m%\u001b[39m\u001b[38;5;124m'\u001b[39m, \u001b[38;5;124m'\u001b[39m\u001b[38;5;124mlpc\u001b[39m\u001b[38;5;124m'\u001b[39m, \u001b[38;5;124m'\u001b[39m\u001b[38;5;124mlpc_\u001b[39m\u001b[38;5;124m%\u001b[39m\u001b[38;5;124m'\u001b[39m, \u001b[38;5;124m'\u001b[39m\u001b[38;5;124mls\u001b[39m\u001b[38;5;124m'\u001b[39m, \u001b[38;5;124m'\u001b[39m\u001b[38;5;124mlsc\u001b[39m\u001b[38;5;124m'\u001b[39m, \u001b[38;5;124m'\u001b[39m\u001b[38;5;124mlsc_\u001b[39m\u001b[38;5;124m%\u001b[39m\u001b[38;5;124m'\u001b[39m, \n\u001b[0;32m     16\u001b[0m                    \u001b[38;5;124m'\u001b[39m\u001b[38;5;124mlh\u001b[39m\u001b[38;5;124m'\u001b[39m, \u001b[38;5;124m'\u001b[39m\u001b[38;5;124mlhc\u001b[39m\u001b[38;5;124m'\u001b[39m, \u001b[38;5;124m'\u001b[39m\u001b[38;5;124mlhc_\u001b[39m\u001b[38;5;124m%\u001b[39m\u001b[38;5;124m'\u001b[39m, \u001b[38;5;124m'\u001b[39m\u001b[38;5;124myr_sch\u001b[39m\u001b[38;5;124m'\u001b[39m, \u001b[38;5;124m'\u001b[39m\u001b[38;5;124myr_sch_\u001b[39m\u001b[38;5;124m%\u001b[39m\u001b[38;5;124m'\u001b[39m, \u001b[38;5;124m'\u001b[39m\u001b[38;5;124myr_sch_pri\u001b[39m\u001b[38;5;124m'\u001b[39m, \u001b[38;5;124m'\u001b[39m\u001b[38;5;124myr_sch_pri_\u001b[39m\u001b[38;5;124m%\u001b[39m\u001b[38;5;124m'\u001b[39m, \n\u001b[0;32m     17\u001b[0m                    \u001b[38;5;124m'\u001b[39m\u001b[38;5;124myr_sch_sec\u001b[39m\u001b[38;5;124m'\u001b[39m, \u001b[38;5;124m'\u001b[39m\u001b[38;5;124myr_sch_sec_\u001b[39m\u001b[38;5;124m%\u001b[39m\u001b[38;5;124m'\u001b[39m, \u001b[38;5;124m'\u001b[39m\u001b[38;5;124myr_sch_ter\u001b[39m\u001b[38;5;124m'\u001b[39m, \u001b[38;5;124m'\u001b[39m\u001b[38;5;124myr_sch_ter_\u001b[39m\u001b[38;5;124m%\u001b[39m\u001b[38;5;124m'\u001b[39m, \u001b[38;5;124m'\u001b[39m\u001b[38;5;124mpop\u001b[39m\u001b[38;5;124m'\u001b[39m, \u001b[38;5;124m'\u001b[39m\u001b[38;5;124mpop_\u001b[39m\u001b[38;5;124m%\u001b[39m\u001b[38;5;124m'\u001b[39m]\n\u001b[1;32m---> 19\u001b[0m \u001b[38;5;28;01mreturn\u001b[39;00m \u001b[43mdf\u001b[49m\u001b[43m[\u001b[49m\u001b[43mdesired_columns\u001b[49m\u001b[43m]\u001b[49m\n",
      "File \u001b[1;32m~\\onedrive\\documenten\\ironhack\\week3\\project\\project_1_env\\lib\\site-packages\\pandas\\core\\frame.py:3767\u001b[0m, in \u001b[0;36mDataFrame.__getitem__\u001b[1;34m(self, key)\u001b[0m\n\u001b[0;32m   3765\u001b[0m     \u001b[38;5;28;01mif\u001b[39;00m is_iterator(key):\n\u001b[0;32m   3766\u001b[0m         key \u001b[38;5;241m=\u001b[39m \u001b[38;5;28mlist\u001b[39m(key)\n\u001b[1;32m-> 3767\u001b[0m     indexer \u001b[38;5;241m=\u001b[39m \u001b[38;5;28;43mself\u001b[39;49m\u001b[38;5;241;43m.\u001b[39;49m\u001b[43mcolumns\u001b[49m\u001b[38;5;241;43m.\u001b[39;49m\u001b[43m_get_indexer_strict\u001b[49m\u001b[43m(\u001b[49m\u001b[43mkey\u001b[49m\u001b[43m,\u001b[49m\u001b[43m \u001b[49m\u001b[38;5;124;43m\"\u001b[39;49m\u001b[38;5;124;43mcolumns\u001b[39;49m\u001b[38;5;124;43m\"\u001b[39;49m\u001b[43m)\u001b[49m[\u001b[38;5;241m1\u001b[39m]\n\u001b[0;32m   3769\u001b[0m \u001b[38;5;66;03m# take() does not accept boolean indexers\u001b[39;00m\n\u001b[0;32m   3770\u001b[0m \u001b[38;5;28;01mif\u001b[39;00m \u001b[38;5;28mgetattr\u001b[39m(indexer, \u001b[38;5;124m\"\u001b[39m\u001b[38;5;124mdtype\u001b[39m\u001b[38;5;124m\"\u001b[39m, \u001b[38;5;28;01mNone\u001b[39;00m) \u001b[38;5;241m==\u001b[39m \u001b[38;5;28mbool\u001b[39m:\n",
      "File \u001b[1;32m~\\onedrive\\documenten\\ironhack\\week3\\project\\project_1_env\\lib\\site-packages\\pandas\\core\\indexes\\base.py:5877\u001b[0m, in \u001b[0;36mIndex._get_indexer_strict\u001b[1;34m(self, key, axis_name)\u001b[0m\n\u001b[0;32m   5874\u001b[0m \u001b[38;5;28;01melse\u001b[39;00m:\n\u001b[0;32m   5875\u001b[0m     keyarr, indexer, new_indexer \u001b[38;5;241m=\u001b[39m \u001b[38;5;28mself\u001b[39m\u001b[38;5;241m.\u001b[39m_reindex_non_unique(keyarr)\n\u001b[1;32m-> 5877\u001b[0m \u001b[38;5;28;43mself\u001b[39;49m\u001b[38;5;241;43m.\u001b[39;49m\u001b[43m_raise_if_missing\u001b[49m\u001b[43m(\u001b[49m\u001b[43mkeyarr\u001b[49m\u001b[43m,\u001b[49m\u001b[43m \u001b[49m\u001b[43mindexer\u001b[49m\u001b[43m,\u001b[49m\u001b[43m \u001b[49m\u001b[43maxis_name\u001b[49m\u001b[43m)\u001b[49m\n\u001b[0;32m   5879\u001b[0m keyarr \u001b[38;5;241m=\u001b[39m \u001b[38;5;28mself\u001b[39m\u001b[38;5;241m.\u001b[39mtake(indexer)\n\u001b[0;32m   5880\u001b[0m \u001b[38;5;28;01mif\u001b[39;00m \u001b[38;5;28misinstance\u001b[39m(key, Index):\n\u001b[0;32m   5881\u001b[0m     \u001b[38;5;66;03m# GH 42790 - Preserve name from an Index\u001b[39;00m\n",
      "File \u001b[1;32m~\\onedrive\\documenten\\ironhack\\week3\\project\\project_1_env\\lib\\site-packages\\pandas\\core\\indexes\\base.py:5941\u001b[0m, in \u001b[0;36mIndex._raise_if_missing\u001b[1;34m(self, key, indexer, axis_name)\u001b[0m\n\u001b[0;32m   5938\u001b[0m     \u001b[38;5;28;01mraise\u001b[39;00m \u001b[38;5;167;01mKeyError\u001b[39;00m(\u001b[38;5;124mf\u001b[39m\u001b[38;5;124m\"\u001b[39m\u001b[38;5;124mNone of [\u001b[39m\u001b[38;5;132;01m{\u001b[39;00mkey\u001b[38;5;132;01m}\u001b[39;00m\u001b[38;5;124m] are in the [\u001b[39m\u001b[38;5;132;01m{\u001b[39;00maxis_name\u001b[38;5;132;01m}\u001b[39;00m\u001b[38;5;124m]\u001b[39m\u001b[38;5;124m\"\u001b[39m)\n\u001b[0;32m   5940\u001b[0m not_found \u001b[38;5;241m=\u001b[39m \u001b[38;5;28mlist\u001b[39m(ensure_index(key)[missing_mask\u001b[38;5;241m.\u001b[39mnonzero()[\u001b[38;5;241m0\u001b[39m]]\u001b[38;5;241m.\u001b[39munique())\n\u001b[1;32m-> 5941\u001b[0m \u001b[38;5;28;01mraise\u001b[39;00m \u001b[38;5;167;01mKeyError\u001b[39;00m(\u001b[38;5;124mf\u001b[39m\u001b[38;5;124m\"\u001b[39m\u001b[38;5;132;01m{\u001b[39;00mnot_found\u001b[38;5;132;01m}\u001b[39;00m\u001b[38;5;124m not in index\u001b[39m\u001b[38;5;124m\"\u001b[39m)\n",
      "\u001b[1;31mKeyError\u001b[0m: \"['gdp', 'gdp_%_change', 'gdp_per_capita', 'gdp_%_change_capita'] not in index\""
     ]
    }
   ],
   "source": [
    "# read in csv file and creating an original df which we wont change. Dropping unnecessary columns.\n",
    "\n",
    "csv_file_path = r'..\\Data\\Education\\OUP_long_MF2564_v1.csv'\n",
    "df_edu_original = pd.read_csv(csv_file_path)\n",
    "df_edu = df_edu_original.copy()\n",
    "df_edu = df_edu.drop(columns=['BLcode', 'WBcode' , 'region_code', 'sex'] , errors='ignore')\n",
    "\n",
    "\n",
    "df_edu = func.edu_perc(df_edu)\n",
    "# df_edu['yr_sch_%'] = df_edu.groupby('country')['yr_sch'].pct_change() * 100\n",
    "# df_edu['yr_sch_pri_%'] = df_edu.groupby('country')['yr_sch_pri'].pct_change() * 100\n",
    "# df_edu['yr_sch_sec_%'] = df_edu.groupby('country')['yr_sch_sec'].pct_change() * 100\n",
    "# df_edu['yr_sch_ter_%'] = df_edu.groupby('country')['yr_sch_ter'].pct_change() * 100\n",
    "# df_edu['lp_%'] = df_edu.groupby('country')['lp'].pct_change() * 100\n",
    "# df_edu['lpc_%'] = df_edu.groupby('country')['lpc'].pct_change() * 100\n",
    "# df_edu['lsc_%'] = df_edu.groupby('country')['lsc'].pct_change() * 100\n",
    "# df_edu['lhc_%'] = df_edu.groupby('country')['lhc'].pct_change() * 100\n",
    "# df_edu['pop_%'] = df_edu.groupby('country')['pop'].pct_change() * 100\n",
    "\n",
    "df_edu = df_edu[df_edu['year'] >= 1980]\n",
    "df_edu.head()"
   ]
  },
  {
   "cell_type": "code",
   "execution_count": null,
   "id": "d784ad45-6eca-446c-b580-6d77355993b0",
   "metadata": {},
   "outputs": [],
   "source": [
    "# Merging Gdp and Education data sets on country and year, dropping unnecessary columns. Also resetting the index on country\n",
    "\n",
    "merged_df = pd.merge(df_gdp_rate, df_edu, on=['country', 'year'], how='inner')\n",
    "merged_df = merged_df.drop(columns=['BLcode', 'WBcode' , 'region_code', 'sex', 'Code'] , errors='ignore')\n",
    "pd.set_option('display.max_columns', None)\n",
    "merged_df.set_index('country', inplace=True)\n",
    "merged_df.head(10)"
   ]
  },
  {
   "cell_type": "code",
   "execution_count": null,
   "id": "9de9581b-3259-4d2f-bc95-54d43b67fa26",
   "metadata": {},
   "outputs": [],
   "source": [
    "# Checking for null and if value which will be problematic for calculations/visualization later.\n",
    "print(merged_df['gdp_change_%_observation'].isnull().sum())\n",
    "print(np.isinf(merged_df['gdp_change_%_observation']).sum())\n",
    "\n",
    "print(merged_df['lhc_%'].isnull().sum())\n",
    "print(np.isinf(merged_df['lhc_%']).sum())"
   ]
  },
  {
   "cell_type": "code",
   "execution_count": null,
   "id": "3fbe39bf-2944-4988-8e23-5788497ef5d5",
   "metadata": {},
   "outputs": [],
   "source": [
    "\n",
    "\n",
    "merged_df.dropna(subset=['gdp_change_%_observation', 'lhc_%'], inplace=True)\n",
    "merged_df = merged_df[~np.isinf(merged_df['lhc_%'])]\n",
    "\n",
    "correlation = merged_df['yr_sch_%'].corr(merged_df['gdp_change_%_observation'])\n",
    "print(correlation)"
   ]
  },
  {
   "cell_type": "code",
   "execution_count": null,
   "id": "8949e70c-ef17-4c8d-ad71-f039c6ee0a9d",
   "metadata": {},
   "outputs": [],
   "source": [
    "df_clean = merged_df.dropna()\n",
    "df_clean = df_clean.replace([np.inf, -np.inf], np.nan).dropna()\n",
    "X = df_clean['gdp_change_%_observation']\n",
    "y = df_clean['lpc_%']\n",
    "\n",
    "X = sm.add_constant(X)\n",
    "\n",
    "\n",
    "model = sm.OLS(y, X).fit()\n",
    "print(model.summary())\n",
    "\n",
    "\n",
    "plt.scatter(X['gdp_change_%_observation'], y, alpha=0.5, label='Data')\n",
    "plt.plot(X['gdp_change_%_observation'], model.predict(X), color='red', label='Regression Line')\n",
    "plt.xlabel('gdp_change_%_observation')\n",
    "plt.ylabel('lpc_%')\n",
    "plt.title('Linear Regression Plot')\n",
    "plt.legend()\n",
    "plt.show()"
   ]
  },
  {
   "cell_type": "code",
   "execution_count": null,
   "id": "e0d2b227-6653-4576-93d9-ee729bf57fb3",
   "metadata": {},
   "outputs": [],
   "source": [
    "merged_df.columns\n"
   ]
  },
  {
   "cell_type": "code",
   "execution_count": null,
   "id": "67a2d148-12ac-4d30-80b0-0239cad096fc",
   "metadata": {},
   "outputs": [],
   "source": [
    "df_clean = merged_df.dropna()\n",
    "df_clean = df_clean.replace([np.inf, -np.inf], np.nan).dropna()\n",
    "\n",
    "z_scores_gdp = stats.zscore(df_clean['gdp_change_%_observation'])\n",
    "z_scores_lpc = stats.zscore(df_clean['lpc_%'])\n",
    "threshold = 3\n",
    "\n",
    "merged_df_no_extreme = df_clean[(abs(z_scores_gdp) < threshold) & (abs(z_scores_lpc) < threshold)]\n",
    "\n",
    "X = merged_df_no_extreme['gdp_change_%_observation']\n",
    "y = merged_df_no_extreme['lpc_%']\n",
    "\n",
    "X = sm.add_constant(X)\n",
    "\n",
    "\n",
    "model = sm.OLS(y, X).fit()\n",
    "print(model.summary())\n",
    "\n",
    "\n",
    "plt.scatter(X['gdp_change_%_observation'], y, alpha=0.5, label='Data')\n",
    "plt.plot(X['gdp_change_%_observation'], model.predict(X), color='red', label='Regression Line')\n",
    "plt.xlabel('gdp_change_%_observation')\n",
    "plt.ylabel('lpc_%')\n",
    "plt.title('Linear Regression Plot')\n",
    "plt.legend()\n",
    "plt.show()"
   ]
  },
  {
   "cell_type": "code",
   "execution_count": null,
   "id": "d47ff153-30c4-4ca8-bbc1-f7ebb01dd8c0",
   "metadata": {},
   "outputs": [],
   "source": [
    "correlation = merged_df_no_extreme['gdp_change_%_observation'].corr(merged_df_no_extreme['lpc_%'])\n",
    "print(correlation)"
   ]
  },
  {
   "cell_type": "markdown",
   "id": "06f0fc83-9b0e-44de-968e-060fabe897eb",
   "metadata": {},
   "source": [
    "Overall, while there appears to be a positive relationship between the percentage change in GDP and the percentage change in people who finished primary school, the low R-squared value and the relatively high p-value indicate that the relationship may not be very strong or statistically significant. "
   ]
  },
  {
   "cell_type": "code",
   "execution_count": null,
   "id": "6428ef3e-5467-4673-a29e-24d2c96eb9bb",
   "metadata": {},
   "outputs": [],
   "source": []
  }
 ],
 "metadata": {
  "kernelspec": {
   "display_name": "project_1_env",
   "language": "python",
   "name": "project_1_env"
  },
  "language_info": {
   "codemirror_mode": {
    "name": "ipython",
    "version": 3
   },
   "file_extension": ".py",
   "mimetype": "text/x-python",
   "name": "python",
   "nbconvert_exporter": "python",
   "pygments_lexer": "ipython3",
   "version": "3.8.18"
  }
 },
 "nbformat": 4,
 "nbformat_minor": 5
}
