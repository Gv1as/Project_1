{
 "cells": [
  {
   "cell_type": "code",
   "execution_count": 1,
   "id": "65f998e4-cf46-4162-964c-1482e569a8ce",
   "metadata": {},
   "outputs": [],
   "source": [
    "import pandas as pd\n",
    "import numpy as np"
   ]
  },
  {
   "cell_type": "code",
   "execution_count": 6,
   "id": "18a03c00-5837-458b-96a6-24e03c59699a",
   "metadata": {},
   "outputs": [
    {
     "data": {
      "text/plain": [
       "array([2011, 2021, 2001, 2008, 2012, 2018, 1987, 2002, 2006, 1980, 2014,\n",
       "       2015, 1991, 2009, 2010, 2013, 2016, 1989, 2017, 2020, 2000, 1999,\n",
       "       2007, 2019, 1981, 1984, 1994, 2004, 1992, 2005, 2003, 1996, 1990,\n",
       "       1998, 1988, 1993, 1982, 1983, 1985, 1986, 1995, 1997], dtype=int64)"
      ]
     },
     "execution_count": 6,
     "metadata": {},
     "output_type": "execute_result"
    }
   ],
   "source": [
    "csv_file_path = r'C:\\Users\\gijsv\\OneDrive\\Documenten\\Ironhack\\week3\\project\\Data\\Literacy\\literacy-rate-adults.csv'\n",
    "df = pd.read_csv(csv_file_path)\n",
    "df = df[df['Year'] >= 1980]\n",
    "df['Year'].unique()"
   ]
  },
  {
   "cell_type": "code",
   "execution_count": 7,
   "id": "5ff32213-b6d0-4e5d-b1bc-a85c0c536419",
   "metadata": {},
   "outputs": [
    {
     "data": {
      "text/html": [
       "<div>\n",
       "<style scoped>\n",
       "    .dataframe tbody tr th:only-of-type {\n",
       "        vertical-align: middle;\n",
       "    }\n",
       "\n",
       "    .dataframe tbody tr th {\n",
       "        vertical-align: top;\n",
       "    }\n",
       "\n",
       "    .dataframe thead th {\n",
       "        text-align: right;\n",
       "    }\n",
       "</style>\n",
       "<table border=\"1\" class=\"dataframe\">\n",
       "  <thead>\n",
       "    <tr style=\"text-align: right;\">\n",
       "      <th></th>\n",
       "      <th>Entity</th>\n",
       "      <th>Code</th>\n",
       "      <th>Year</th>\n",
       "      <th>Literacy rate, adult total (% of people ages 15 and above)</th>\n",
       "    </tr>\n",
       "  </thead>\n",
       "  <tbody>\n",
       "    <tr>\n",
       "      <th>1</th>\n",
       "      <td>Afghanistan</td>\n",
       "      <td>AFG</td>\n",
       "      <td>2011</td>\n",
       "      <td>31.44885</td>\n",
       "    </tr>\n",
       "    <tr>\n",
       "      <th>2</th>\n",
       "      <td>Afghanistan</td>\n",
       "      <td>AFG</td>\n",
       "      <td>2021</td>\n",
       "      <td>37.26604</td>\n",
       "    </tr>\n",
       "    <tr>\n",
       "      <th>3</th>\n",
       "      <td>Albania</td>\n",
       "      <td>ALB</td>\n",
       "      <td>2001</td>\n",
       "      <td>98.71298</td>\n",
       "    </tr>\n",
       "    <tr>\n",
       "      <th>4</th>\n",
       "      <td>Albania</td>\n",
       "      <td>ALB</td>\n",
       "      <td>2008</td>\n",
       "      <td>95.93864</td>\n",
       "    </tr>\n",
       "    <tr>\n",
       "      <th>5</th>\n",
       "      <td>Albania</td>\n",
       "      <td>ALB</td>\n",
       "      <td>2011</td>\n",
       "      <td>96.84530</td>\n",
       "    </tr>\n",
       "    <tr>\n",
       "      <th>...</th>\n",
       "      <td>...</td>\n",
       "      <td>...</td>\n",
       "      <td>...</td>\n",
       "      <td>...</td>\n",
       "    </tr>\n",
       "    <tr>\n",
       "      <th>1534</th>\n",
       "      <td>Zimbabwe</td>\n",
       "      <td>ZWE</td>\n",
       "      <td>1982</td>\n",
       "      <td>77.79417</td>\n",
       "    </tr>\n",
       "    <tr>\n",
       "      <th>1535</th>\n",
       "      <td>Zimbabwe</td>\n",
       "      <td>ZWE</td>\n",
       "      <td>1992</td>\n",
       "      <td>83.51258</td>\n",
       "    </tr>\n",
       "    <tr>\n",
       "      <th>1536</th>\n",
       "      <td>Zimbabwe</td>\n",
       "      <td>ZWE</td>\n",
       "      <td>2011</td>\n",
       "      <td>83.58271</td>\n",
       "    </tr>\n",
       "    <tr>\n",
       "      <th>1537</th>\n",
       "      <td>Zimbabwe</td>\n",
       "      <td>ZWE</td>\n",
       "      <td>2014</td>\n",
       "      <td>88.69342</td>\n",
       "    </tr>\n",
       "    <tr>\n",
       "      <th>1538</th>\n",
       "      <td>Zimbabwe</td>\n",
       "      <td>ZWE</td>\n",
       "      <td>2021</td>\n",
       "      <td>89.70000</td>\n",
       "    </tr>\n",
       "  </tbody>\n",
       "</table>\n",
       "<p>1471 rows × 4 columns</p>\n",
       "</div>"
      ],
      "text/plain": [
       "           Entity Code  Year  \\\n",
       "1     Afghanistan  AFG  2011   \n",
       "2     Afghanistan  AFG  2021   \n",
       "3         Albania  ALB  2001   \n",
       "4         Albania  ALB  2008   \n",
       "5         Albania  ALB  2011   \n",
       "...           ...  ...   ...   \n",
       "1534     Zimbabwe  ZWE  1982   \n",
       "1535     Zimbabwe  ZWE  1992   \n",
       "1536     Zimbabwe  ZWE  2011   \n",
       "1537     Zimbabwe  ZWE  2014   \n",
       "1538     Zimbabwe  ZWE  2021   \n",
       "\n",
       "      Literacy rate, adult total (% of people ages 15 and above)  \n",
       "1                                              31.44885           \n",
       "2                                              37.26604           \n",
       "3                                              98.71298           \n",
       "4                                              95.93864           \n",
       "5                                              96.84530           \n",
       "...                                                 ...           \n",
       "1534                                           77.79417           \n",
       "1535                                           83.51258           \n",
       "1536                                           83.58271           \n",
       "1537                                           88.69342           \n",
       "1538                                           89.70000           \n",
       "\n",
       "[1471 rows x 4 columns]"
      ]
     },
     "execution_count": 7,
     "metadata": {},
     "output_type": "execute_result"
    }
   ],
   "source": [
    "df"
   ]
  },
  {
   "cell_type": "code",
   "execution_count": null,
   "id": "b9db197b-11f1-4360-8784-3e3f14110d3c",
   "metadata": {},
   "outputs": [],
   "source": []
  }
 ],
 "metadata": {
  "kernelspec": {
   "display_name": "project_1_env",
   "language": "python",
   "name": "project_1_env"
  },
  "language_info": {
   "codemirror_mode": {
    "name": "ipython",
    "version": 3
   },
   "file_extension": ".py",
   "mimetype": "text/x-python",
   "name": "python",
   "nbconvert_exporter": "python",
   "pygments_lexer": "ipython3",
   "version": "3.8.18"
  }
 },
 "nbformat": 4,
 "nbformat_minor": 5
}
